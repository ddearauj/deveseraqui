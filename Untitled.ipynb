{
 "cells": [
  {
   "cell_type": "code",
   "execution_count": 1,
   "id": "7f92e2af",
   "metadata": {},
   "outputs": [],
   "source": [
    "from post_page import single_col_post"
   ]
  },
  {
   "cell_type": "code",
   "execution_count": 3,
   "id": "0054d30a",
   "metadata": {},
   "outputs": [],
   "source": [
    "page_dict = {}\n",
    "\n",
    "page_dict['page_title'] = \"Gabs<sup>blog</sup>\"\n",
    "page_dict['page_subtitle'] = \"Uma homenagem aos blogs dos anos 2000\"\n",
    "page_dict['active_menu_title'] = \"Receitas\"\n",
    "page_dict['webtitle'] = \"Gabs blog, bitch!\"\n",
    "page_dict['content'] = \"\"\"\n",
    "\n",
    "<h3><strong>Estrogonoff</strong> <span>a primeira receita</span></h2>\n",
    "<div class=\"contentarea\">\n",
    "    <img src=\"images/pic1.jpg\" class=\"left\" alt=\"A chinese lion statue\" />\n",
    "    <p>Eu não sei bem a receita, mas vou me arriscar a escrever a primeira pagina, afinal, por que não? Não vai ser\n",
    "    muito diferente da minha ajuda na cozinha: eu só fiz as batatas e estava ali do lado. E, como essa receita nem\n",
    "    mesmo iria existir, deixa eu tentar explicar como funciona:\n",
    "    <br></br>\n",
    "    Pegue uma airfryer, compre batatas, mas não se esqueça do ponto mais importante: se apaixone por alguém incrível\n",
    "    chamada Gabrielle e só observe enquanto ela cria arte. \n",
    "    Obrigado por querer tanto que eu faça parte desses projetos.\n",
    "    Sou grato por poder viver isso com você.\n",
    "    \n",
    "    Te amo,\n",
    "    Dani\n",
    "    \n",
    "    <br></br>\n",
    "    PS: eu não sei formatar isso ainda. Seja o que Deus quiser \n",
    "    </p>\n",
    "</div>\n",
    "\n",
    "\"\"\"\n",
    "\n",
    "menu_options = [\n",
    "    {\"title\": \"Home\", \"link\": \"#\"},\n",
    "    {\"title\": \"Receitas\", \"link\": \"#\"},\n",
    "    {\"title\": \"Blog\", \"link\": \"#\"}\n",
    "]\n",
    "\n",
    "footer_dict = {}\n",
    "\n",
    "footer_dict['left'] = \"esquerda\"\n",
    "footer_dict['right'] = \"direita\"\n",
    "\n",
    "html = single_col_post(\n",
    "    page_dict, menu_options, footer_dict\n",
    ")"
   ]
  },
  {
   "cell_type": "code",
   "execution_count": 4,
   "id": "50f482fb",
   "metadata": {},
   "outputs": [
    {
     "data": {
      "text/plain": [
       "'\\n    <html>\\n        \\n    <head>\\n        <meta http-equiv=\"content-type\" content=\"text/html; charset=iso-8859-1\" />\\n        <title>Gabs blog, bitch!</title>\\n        <meta name=\"keywords\" content=\"\" />\\n        <meta name=\"description\" content=\"\" />\\n        <link rel=\"stylesheet\" type=\"text/css\" href=\"default.css\" />\\n    </head>\\n    \\n        <div id=\"upbg\"></div>\\n        <div id=\"outer\">\\n            \\n    <div id=\"header\">\\n\\t\\t<div id=\"headercontent\">\\n\\t\\t\\t<h1>Gabs<sup>blog</sup><sup>blog</sup></h1>\\n\\t\\t\\t<h2>Uma homenagem aos blogs dos anos 2000</h2>\\n\\t\\t</div>\\n\\t</div>\\n    \\n            <div id=\"headerpic\"></div>\\n            \\n        <div id=\"menu\">\\n            <ul>\\n                \\n                <li> <a href=\"#\">Home</a></li>\\n            \\n                <li> <a href=\"#\" class=\"active\">Receitas</a></li>\\n            \\n                <li> <a href=\"#\">Blog</a></li>\\n            \\n            </ul>\\n        </div>\\n        <div id=\"menubottom\"></div>\\n    \\n            <div id=\"content\">\\n                \\n        <div id=\"normalcontent\">\\n            \\n\\n<h3><strong>Estrogonoff</strong> <span>a primeira receita</span></h2>\\n<div class=\"contentarea\">\\n    <img src=\"images/pic1.jpg\" class=\"left\" alt=\"A chinese lion statue\" />\\n    <p>Eu não sei bem a receita, mas vou me arriscar a escrever a primeira pagina, afinal, por que não? Não vai ser\\n    muito diferente da minha ajuda na cozinha: eu só fiz as batatas e estava ali do lado. E, como essa receita nem\\n    mesmo iria existir, deixa eu tentar explicar como funciona:\\n    <br></br>\\n    Pegue uma airfryer, compre batatas, mas não se esqueça do ponto mais importante: se apaixone por alguém incrível\\n    chamada Gabrielle e só observe enquanto ela cria arte. \\n    Obrigado por querer tanto que eu faça parte desses projetos.\\n    Sou grato por poder viver isso com você.\\n    \\n    Te amo,\\n    Dani\\n    \\n    <br></br>\\n    PS: eu não sei formatar isso ainda. Seja o que Deus quiser \\n    </p>\\n</div>\\n\\n\\n\\t\\t</div>\\n    \\n            </div>\\n\\n        </div>\\n        \\n    <div id=\"footer\">\\n\\t\\t<div class=\"left\">esquerda</div>\\n\\t\\t<div class=\"right\"direita</a></div>\\n\\t</div>\\n    \\n    </html>\\n    '"
      ]
     },
     "execution_count": 4,
     "metadata": {},
     "output_type": "execute_result"
    }
   ],
   "source": [
    "html"
   ]
  },
  {
   "cell_type": "code",
   "execution_count": 5,
   "id": "5544fb8d",
   "metadata": {},
   "outputs": [],
   "source": [
    "with open(\"index_test.html\", \"w\") as f:\n",
    "    f.write(html)"
   ]
  },
  {
   "cell_type": "code",
   "execution_count": null,
   "id": "48efe42b",
   "metadata": {},
   "outputs": [],
   "source": []
  }
 ],
 "metadata": {
  "kernelspec": {
   "display_name": "Python 3.8.9 64-bit",
   "language": "python",
   "name": "python3"
  },
  "language_info": {
   "codemirror_mode": {
    "name": "ipython",
    "version": 3
   },
   "file_extension": ".py",
   "mimetype": "text/x-python",
   "name": "python",
   "nbconvert_exporter": "python",
   "pygments_lexer": "ipython3",
   "version": "3.8.9"
  },
  "vscode": {
   "interpreter": {
    "hash": "31f2aee4e71d21fbe5cf8b01ff0e069b9275f58929596ceb00d14d90e3e16cd6"
   }
  }
 },
 "nbformat": 4,
 "nbformat_minor": 5
}
